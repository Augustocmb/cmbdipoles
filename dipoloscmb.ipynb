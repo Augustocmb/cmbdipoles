{
 "cells": [
  {
   "cell_type": "code",
   "execution_count": 16,
   "id": "cfb3571f-803e-48cf-8bbd-22a9718fef6e",
   "metadata": {},
   "outputs": [],
   "source": [
    "import numpy as np\n",
    "import matplotlib.pyplot as plt"
   ]
  },
  {
   "cell_type": "code",
   "execution_count": 22,
   "id": "7702f568-1df5-4c33-8e8a-f769367c25e4",
   "metadata": {},
   "outputs": [
    {
     "ename": "TypeError",
     "evalue": "errorbar() missing 1 required positional argument: 'y'",
     "output_type": "error",
     "traceback": [
      "\u001b[0;31m---------------------------------------------------------------------------\u001b[0m",
      "\u001b[0;31mTypeError\u001b[0m                                 Traceback (most recent call last)",
      "\u001b[0;32m/tmp/ipykernel_4127/2632122733.py\u001b[0m in \u001b[0;36m<module>\u001b[0;34m\u001b[0m\n\u001b[1;32m      8\u001b[0m \u001b[0mx_error\u001b[0m\u001b[0;34m=\u001b[0m\u001b[0;34m[\u001b[0m\u001b[0mx_lowererror\u001b[0m\u001b[0;34m,\u001b[0m\u001b[0mx_highererror\u001b[0m\u001b[0;34m]\u001b[0m\u001b[0;34m\u001b[0m\u001b[0;34m\u001b[0m\u001b[0m\n\u001b[1;32m      9\u001b[0m \u001b[0my_error\u001b[0m\u001b[0;34m=\u001b[0m\u001b[0;34m[\u001b[0m\u001b[0my_lowererror\u001b[0m\u001b[0;34m,\u001b[0m\u001b[0my_highererror\u001b[0m\u001b[0;34m]\u001b[0m\u001b[0;34m\u001b[0m\u001b[0;34m\u001b[0m\u001b[0m\n\u001b[0;32m---> 10\u001b[0;31m \u001b[0mplt\u001b[0m\u001b[0;34m.\u001b[0m\u001b[0merrorbar\u001b[0m\u001b[0;34m(\u001b[0m\u001b[0mD\u001b[0m\u001b[0;34m,\u001b[0m \u001b[0mxerr\u001b[0m\u001b[0;34m=\u001b[0m\u001b[0mx_error\u001b[0m\u001b[0;34m,\u001b[0m \u001b[0myerr\u001b[0m\u001b[0;34m=\u001b[0m\u001b[0my_error\u001b[0m\u001b[0;34m,\u001b[0m \u001b[0mfmt\u001b[0m \u001b[0;34m=\u001b[0m\u001b[0;34m'bo'\u001b[0m\u001b[0;34m)\u001b[0m\u001b[0;34m\u001b[0m\u001b[0;34m\u001b[0m\u001b[0m\n\u001b[0m",
      "\u001b[0;31mTypeError\u001b[0m: errorbar() missing 1 required positional argument: 'y'"
     ]
    }
   ],
   "source": [
    "#D =np.array([265,59]) #Direct medition of the cmb dipole\n",
    "D = [265,59]\n",
    "x_lowererror=-44\n",
    "x_highererror= 47\n",
    "y_lowererror=-51\n",
    "y_highererror=116\n",
    "\n",
    "x_error=[x_lowererror,x_highererror]\n",
    "y_error=[y_lowererror,y_highererror]\n",
    "plt.errorbar(D, xerr=x_error, yerr=y_error, fmt ='bo')"
   ]
  },
  {
   "cell_type": "code",
   "execution_count": null,
   "id": "5fd769e4-8f07-425c-9815-8c12c7a69b6c",
   "metadata": {},
   "outputs": [],
   "source": []
  }
 ],
 "metadata": {
  "kernelspec": {
   "display_name": "Python 3 (ipykernel)",
   "language": "python",
   "name": "python3"
  },
  "language_info": {
   "codemirror_mode": {
    "name": "ipython",
    "version": 3
   },
   "file_extension": ".py",
   "mimetype": "text/x-python",
   "name": "python",
   "nbconvert_exporter": "python",
   "pygments_lexer": "ipython3",
   "version": "3.8.13"
  }
 },
 "nbformat": 4,
 "nbformat_minor": 5
}
