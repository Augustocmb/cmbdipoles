{
 "cells": [
  {
   "cell_type": "code",
   "execution_count": 14,
   "id": "cfb3571f-803e-48cf-8bbd-22a9718fef6e",
   "metadata": {},
   "outputs": [],
   "source": [
    "import numpy as np\n",
    "import matplotlib.pyplot as plt"
   ]
  },
  {
   "cell_type": "code",
   "execution_count": 19,
   "id": "7702f568-1df5-4c33-8e8a-f769367c25e4",
   "metadata": {},
   "outputs": [
    {
     "data": {
      "image/png": "[encoded data removed]",
      "text/plain": [
       "<Figure size 432x288 with 1 Axes>"
      ]
     },
     "metadata": {
      "needs_background": "light"
     },
     "output_type": "display_data"
    }
   ],
   "source": [
    "#D =np.array([265,59]) #Direct medition of the cmb dipole\n",
    "x = [265,271,271,259]\n",
    "y = [59,56,52,50]\n",
    "#theorical cmb galactic coordinate (plank 2018)\n",
    "Dx=264.0\n",
    "Dy=48.3\n",
    "\n",
    "x_lowererror=[44,58,52,51]\n",
    "x_highererror=[47,55,51,47]\n",
    "y_lowererror=[29,35,34,35]\n",
    "y_highererror=[11,13,13,12]\n",
    "\n",
    "x_error=[x_lowererror,x_highererror]\n",
    "y_error=[y_lowererror,y_highererror]\n",
    "\n",
    "plt.xlabel('l(°)')\n",
    "plt.ylabel('b(°)')\n",
    "\n",
    "plt.plot(Dx,Dy, 'o' ,color='r', label= 'theroical cmb dipole galactic coordinates')\n",
    "plt.errorbar(x,y, xerr=x_error, yerr=y_error, fmt ='bo', label ='Direc, SH, d, Permissive')\n",
    "\n",
    "\n",
    "plt.title('galactic coordinates cmb dipolesby numerical counts')\n",
    "plt.grid()\n",
    "\n",
    "plt.savefig('cmbdipoles counts.png')\n",
    "plt.show()\n",
    "\n"
   ]
  },
  {
   "cell_type": "code",
   "execution_count": null,
   "id": "5fd769e4-8f07-425c-9815-8c12c7a69b6c",
   "metadata": {},
   "outputs": [],
   "source": []
  }
 ],
 "metadata": {
  "kernelspec": {
   "display_name": "Python 3 (ipykernel)",
   "language": "python",
   "name": "python3"
  },
  "language_info": {
   "codemirror_mode": {
    "name": "ipython",
    "version": 3
   },
   "file_extension": ".py",
   "mimetype": "text/x-python",
   "name": "python",
   "nbconvert_exporter": "python",
   "pygments_lexer": "ipython3",
   "version": "3.8.13"
  }
 },
 "nbformat": 4,
 "nbformat_minor": 5
}
